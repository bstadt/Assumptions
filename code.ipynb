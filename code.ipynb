{
 "cells": [
  {
   "cell_type": "code",
   "execution_count": null,
   "metadata": {},
   "outputs": [],
   "source": [
    "import numpy as np\n",
    "from tqdm import tqdm\n",
    "from scipy import stats\n",
    "from scipy.special import comb\n",
    "from matplotlib import pyplot as plt"
   ]
  },
  {
   "cell_type": "markdown",
   "metadata": {},
   "source": [
    "# Frequentist"
   ]
  },
  {
   "cell_type": "code",
   "execution_count": null,
   "metadata": {},
   "outputs": [],
   "source": [
    "sum_list = []\n",
    "for my_lambda in np.arange(.01, .5, .000001):\n",
    "    cur_sum = 0\n",
    "    true_count = 0\n",
    "    for r_tilde in range(0, 13):\n",
    "        val = .5**12/((r_tilde/12)**r_tilde * (1-r_tilde/12)**(12-r_tilde))\n",
    "        if .5**12/((r_tilde/12)**r_tilde * (1-r_tilde/12)**(12-r_tilde)) <= my_lambda:\n",
    "            true_count+=1\n",
    "            cur_sum = cur_sum + comb(12, r_tilde) *.5**12\n",
    "    sum_list.append(cur_sum)"
   ]
  },
  {
   "cell_type": "code",
   "execution_count": null,
   "metadata": {},
   "outputs": [],
   "source": [
    "plt.figure()\n",
    "plt.title('SE vs lambda')\n",
    "plt.xlabel('lambda')\n",
    "plt.ylabel('SE')\n",
    "plt.plot([i for i  in np.arange(.01, .5, .000001)], [(elem-.05)**2  for elem in sum_list])\n",
    "plt.show()"
   ]
  },
  {
   "cell_type": "code",
   "execution_count": null,
   "metadata": {},
   "outputs": [],
   "source": [
    "xs = [i for i  in np.arange(.01, .5, .000001)]\n",
    "ys = [(elem - .05)**2 for elem in sum_list]\n",
    "relevant = [xs[i] for i in range(len(xs)) if ys[i] < .0019]"
   ]
  },
  {
   "cell_type": "code",
   "execution_count": null,
   "metadata": {},
   "outputs": [],
   "source": [
    "print(np.min(relevant))\n",
    "print(np.max(relevant))"
   ]
  },
  {
   "cell_type": "markdown",
   "metadata": {},
   "source": [
    "# Bayesian"
   ]
  },
  {
   "cell_type": "code",
   "execution_count": null,
   "metadata": {},
   "outputs": [],
   "source": [
    "def integrate(lower, upper, dx, exp_fn):\n",
    "    my_sum = 0\n",
    "    for x in np.arange(lower, upper, dx):\n",
    "        my_sum += exp_fn(x) * dx\n",
    "    return my_sum"
   ]
  },
  {
   "cell_type": "code",
   "execution_count": null,
   "metadata": {},
   "outputs": [],
   "source": [
    "def integrand_factory(r_tilde):\n",
    "    def integrand(k):\n",
    "        return k**r_tilde * (1-k)**(12-r_tilde)\n",
    "    return integrand"
   ]
  },
  {
   "cell_type": "code",
   "execution_count": null,
   "metadata": {},
   "outputs": [],
   "source": [
    "integrand_lookups = {}\n",
    "for r_tilde in tqdm(range(0, 13)):\n",
    "    integrand = integrand_factory(r_tilde)\n",
    "    result = integrate(0, .5, .0001,  integrand)\n",
    "    integrand_lookups[r_tilde] = result"
   ]
  },
  {
   "cell_type": "code",
   "execution_count": null,
   "metadata": {},
   "outputs": [],
   "source": [
    "def eval_indicator(r_tilde, my_lambda):\n",
    "    numerator = np.min([r_tilde/12, .5])**r_tilde * (1 - np.min([r_tilde/12, .5]))**(12-r_tilde)\n",
    "    denominator = np.max([r_tilde/12, 7/12])**r_tilde * (1 - np.max([r_tilde/12, 7/12]))**(12-r_tilde)\n",
    "    return numerator/denominator < my_lambda\n",
    "\n",
    "def eval_at_lambda(integrand_lookups, my_lambda):\n",
    "    my_sum = 0\n",
    "    for r_tilde in range(0, 13):\n",
    "        include = eval_indicator(r_tilde, my_lambda)\n",
    "        if include:\n",
    "            my_sum = my_sum + comb(12, r_tilde) * integrand_lookups[r_tilde]\n",
    "    return my_sum"
   ]
  },
  {
   "cell_type": "code",
   "execution_count": null,
   "metadata": {},
   "outputs": [],
   "source": [
    "out = [eval_at_lambda(integrand_lookups, i) for i in np.arange(.1, 1.9, .01)]"
   ]
  },
  {
   "cell_type": "code",
   "execution_count": null,
   "metadata": {
    "scrolled": true
   },
   "outputs": [],
   "source": [
    "plt.figure()\n",
    "plt.title('SE vs lambda')\n",
    "plt.xlabel('lambda')\n",
    "plt.ylabel('SE')\n",
    "plt.plot([i for i  in np.arange(.1, 1.9, .01)], [(elem - .05)**2 for elem in out])\n",
    "plt.show()"
   ]
  },
  {
   "cell_type": "code",
   "execution_count": null,
   "metadata": {},
   "outputs": [],
   "source": [
    "xs = [i for i  in np.arange(.1, 1.9, .01)]\n",
    "ys = [(elem - .05)**2 for elem in out]\n",
    "relevant = [xs[i] for i in range(len(xs)) if ys[i] < .0005]"
   ]
  },
  {
   "cell_type": "code",
   "execution_count": null,
   "metadata": {},
   "outputs": [],
   "source": [
    "print(np.min(relevant))\n",
    "print(np.max(relevant))"
   ]
  },
  {
   "cell_type": "markdown",
   "metadata": {},
   "source": [
    "# 2"
   ]
  },
  {
   "cell_type": "code",
   "execution_count": null,
   "metadata": {},
   "outputs": [],
   "source": [
    "def monte_carlo_sim(n, iterations):\n",
    "    x_0 = []\n",
    "    x_1 = []\n",
    "    for _ in range(n//2):\n",
    "        x_0.append(np.random.normal(-.25, 1))\n",
    "        \n",
    "    for _ in range(n//2):\n",
    "        x_1.append(np.random.normal(.25, 1))\n",
    "        \n",
    "    xbar_0 = np.mean(x_0)\n",
    "    xbar_1 = np.mean(x_1)\n",
    "    \n",
    "    xs = []\n",
    "    ys = []\n",
    "    for _ in range(iterations):\n",
    "        if np.random.uniform(0, 1) < .95:\n",
    "            ys.append(0)\n",
    "            xs.append(np.random.normal(-.25, 1))\n",
    "        else:\n",
    "            ys.append(1)\n",
    "            xs.append(np.random.normal(.25, 1))\n",
    "            \n",
    "    #assumed equal priors\n",
    "    correct = 0\n",
    "    for idx, x in enumerate(xs):\n",
    "        y = ys[idx]\n",
    "        if np.abs(xbar_0 - x) < np.abs(xbar_1 - x):\n",
    "            if y == 0:\n",
    "                correct+=1\n",
    "        else:\n",
    "            if y == 1:\n",
    "                correct+=1\n",
    "                \n",
    "    bad_prior_acc = correct/iterations\n",
    "    \n",
    "    #known correct priors\n",
    "    correct=0\n",
    "    for idx, x in enumerate(xs):\n",
    "        y = ys[idx]\n",
    "        if stats.norm(xbar_0, 1).pdf(x) * .95 > stats.norm(xbar_1, 1).pdf(x) * .05:\n",
    "            if y == 0:\n",
    "                correct+=1\n",
    "        else:\n",
    "            if y == 1:\n",
    "                correct +=1\n",
    "                \n",
    "    good_prior_acc = correct/iterations\n",
    "    return bad_prior_acc, good_prior_acc"
   ]
  },
  {
   "cell_type": "code",
   "execution_count": null,
   "metadata": {
    "scrolled": true
   },
   "outputs": [],
   "source": [
    "bad_prior_accs = []\n",
    "good_prior_accs = []\n",
    "for replication in tqdm(range(100)):\n",
    "    bad_prior_acc, good_prior_acc = monte_carlo_sim(128, 250)\n",
    "    bad_prior_accs.append(bad_prior_acc)\n",
    "    good_prior_accs.append(good_prior_acc)"
   ]
  },
  {
   "cell_type": "code",
   "execution_count": null,
   "metadata": {},
   "outputs": [],
   "source": [
    "plt.figure(figsize=(7, 5))\n",
    "plt.title('Monte Carlo Accuracy')\n",
    "plt.hist(bad_prior_accs, label='Estimated Prior')\n",
    "plt.hist(good_prior_accs, label='Correct Prior')\n",
    "plt.legend()\n",
    "plt.show()"
   ]
  },
  {
   "cell_type": "code",
   "execution_count": null,
   "metadata": {},
   "outputs": [],
   "source": [
    "stats.ranksums(bad_prior_accs, good_prior_accs)"
   ]
  },
  {
   "cell_type": "markdown",
   "metadata": {},
   "source": [
    "# 3"
   ]
  },
  {
   "cell_type": "code",
   "execution_count": null,
   "metadata": {},
   "outputs": [],
   "source": [
    "def monte_carlo_sim_2(n, iterations):\n",
    "    x_0 = []\n",
    "    x_1 = []\n",
    "    for _ in range(int(n * .95)):\n",
    "        x_0.append(np.random.normal(-1, 5))\n",
    "    \n",
    "    for _ in range(int(n * .05)):\n",
    "        x_1.append(np.random.normal(1, 5))\n",
    "        \n",
    "    xbar_0 = np.mean(x_0)\n",
    "    xbar_1 = np.mean(x_1)\n",
    "    \n",
    "    xs = []\n",
    "    ys = []\n",
    "    for _ in range(iterations):\n",
    "        if np.random.uniform(0, 1) < .95:\n",
    "            ys.append(0)\n",
    "            xs.append(np.random.normal(-1, 5))\n",
    "        else:\n",
    "            ys.append(1)\n",
    "            xs.append(np.random.normal(1, 5))\n",
    "            \n",
    "    #random chance\n",
    "    correct=0\n",
    "    for idx in range(len(xs)):\n",
    "        if np.random.uniform(0, 1) < .5:\n",
    "            if ys[idx] == 0:\n",
    "                correct+=1 \n",
    "        else:\n",
    "            if ys[idx] == 1:\n",
    "                correct+=1 \n",
    "    rand_correct = correct/iterations\n",
    "    \n",
    "    \n",
    "    #est correct priors\n",
    "    correct=0\n",
    "    for idx, x in enumerate(xs):\n",
    "        y = ys[idx]\n",
    "        if stats.norm(xbar_0, 5).pdf(x) * .95 > stats.norm(xbar_1, 5).pdf(x) * .05:\n",
    "            if y == 0:\n",
    "                correct+=1\n",
    "        else:\n",
    "            if y == 1:\n",
    "                correct +=1\n",
    "                \n",
    "    est_prior_acc = correct/iterations\n",
    "    return rand_correct, est_prior_acc"
   ]
  },
  {
   "cell_type": "code",
   "execution_count": null,
   "metadata": {},
   "outputs": [],
   "source": [
    "rand_accs = []\n",
    "est_prior_accs = []\n",
    "for replication in tqdm(range(100)):\n",
    "    rand_acc, est_prior_acc = monte_carlo_sim_2(15, 250)\n",
    "    rand_accs.append(rand_acc)\n",
    "    est_prior_accs.append(est_prior_acc)"
   ]
  },
  {
   "cell_type": "code",
   "execution_count": null,
   "metadata": {},
   "outputs": [],
   "source": [
    "plt.figure(figsize=(7, 5))\n",
    "plt.title('Monte Carlo Accuracy')\n",
    "plt.hist(est_prior_accs, label='Bayes Plug In Correct Prior')\n",
    "plt.hist(rand_accs, label='Random Selection')\n",
    "plt.legend()\n",
    "plt.show()"
   ]
  },
  {
   "cell_type": "code",
   "execution_count": null,
   "metadata": {},
   "outputs": [],
   "source": [
    "stats.ranksums(est_prior_accs, rand_accs)"
   ]
  },
  {
   "cell_type": "code",
   "execution_count": null,
   "metadata": {},
   "outputs": [],
   "source": []
  }
 ],
 "metadata": {
  "kernelspec": {
   "display_name": "Python 3",
   "language": "python",
   "name": "python3"
  },
  "language_info": {
   "codemirror_mode": {
    "name": "ipython",
    "version": 3
   },
   "file_extension": ".py",
   "mimetype": "text/x-python",
   "name": "python",
   "nbconvert_exporter": "python",
   "pygments_lexer": "ipython3",
   "version": "3.5.2"
  }
 },
 "nbformat": 4,
 "nbformat_minor": 2
}
